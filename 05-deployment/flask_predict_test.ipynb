{
 "cells": [
  {
   "cell_type": "code",
   "execution_count": 1,
   "metadata": {},
   "outputs": [],
   "source": [
    "import requests"
   ]
  },
  {
   "cell_type": "code",
   "execution_count": 2,
   "metadata": {},
   "outputs": [],
   "source": [
    "url = \"http://127.0.0.1:9696/predict\""
   ]
  },
  {
   "attachments": {},
   "cell_type": "markdown",
   "metadata": {},
   "source": [
    "</code> waitress-serve --listen=127.0.0.1:9696 predict:app </code>"
   ]
  },
  {
   "cell_type": "code",
   "execution_count": 3,
   "metadata": {},
   "outputs": [],
   "source": [
    "customer = {\n",
    "    \"customerid\": \"8879-zkjof\",\n",
    "    \"gender\": \"female\",\n",
    "    \"seniorcitizen\": 0,\n",
    "    \"partner\": \"no\",\n",
    "    \"dependents\": \"no\",\n",
    "    \"tenure\": 41,\n",
    "    \"phoneservice\": \"yes\",\n",
    "    \"multiplelines\": \"no\",\n",
    "    \"internetservice\": \"dsl\",\n",
    "    \"onlinesecurity\": \"yes\",\n",
    "    \"onlinebackup\": \"no\",\n",
    "    \"deviceprotection\": \"yes\",\n",
    "    \"techsupport\": \"yes\",\n",
    "    \"streamingtv\": \"yes\",\n",
    "    \"streamingmovies\": \"yes\",\n",
    "    \"contract\": \"one_year\",\n",
    "    \"paperlessbilling\": \"yes\",\n",
    "    \"paymentmethod\": \"bank_transfer_(automatic)\",\n",
    "    \"monthlycharges\": 79.85,\n",
    "    \"totalcharges\": 3320.75\n",
    "}\n"
   ]
  },
  {
   "cell_type": "code",
   "execution_count": 4,
   "metadata": {},
   "outputs": [
    {
     "data": {
      "text/plain": [
       "<Response [200]>"
      ]
     },
     "execution_count": 4,
     "metadata": {},
     "output_type": "execute_result"
    }
   ],
   "source": [
    "requests.post(url, json=customer)"
   ]
  },
  {
   "cell_type": "code",
   "execution_count": 5,
   "metadata": {},
   "outputs": [
    {
     "name": "stdout",
     "output_type": "stream",
     "text": [
      "{'churn': False, 'churn_probability': 0.0675}\n"
     ]
    }
   ],
   "source": [
    "response = requests.post(url, json=customer).json()\n",
    "print(response)"
   ]
  },
  {
   "cell_type": "code",
   "execution_count": 6,
   "metadata": {},
   "outputs": [
    {
     "name": "stdout",
     "output_type": "stream",
     "text": [
      "Not Sending Promo email to abc@yeehaw.kom\n"
     ]
    }
   ],
   "source": [
    "if response[\"churn\"]==True:\n",
    "    print(\"Sending Promo email to %s\" % (\"abc@yeehaw.kom\"))\n",
    "else:\n",
    "    print(\"Not Sending Promo email to %s\" % (\"abc@yeehaw.kom\"))"
   ]
  }
 ],
 "metadata": {
  "kernelspec": {
   "display_name": "Python 3.9.13 ('mlops')",
   "language": "python",
   "name": "python3"
  },
  "language_info": {
   "codemirror_mode": {
    "name": "ipython",
    "version": 3
   },
   "file_extension": ".py",
   "mimetype": "text/x-python",
   "name": "python",
   "nbconvert_exporter": "python",
   "pygments_lexer": "ipython3",
   "version": "3.9.13 (main, Oct 13 2022, 21:23:06) [MSC v.1916 64 bit (AMD64)]"
  },
  "orig_nbformat": 4,
  "vscode": {
   "interpreter": {
    "hash": "18991c5c23bbeacf7138ad08653f66172ad2fdcb5104daecb84c50773ee67104"
   }
  }
 },
 "nbformat": 4,
 "nbformat_minor": 2
}
