{
 "cells": [
  {
   "cell_type": "markdown",
   "metadata": {},
   "source": [
    "!pip install grpcio==1.42.0 tensorflow-serving-api==2.7.0"
   ]
  },
  {
   "cell_type": "code",
   "execution_count": 39,
   "metadata": {},
   "outputs": [],
   "source": [
    "import grpc\n",
    "import tensorflow as tf\n",
    "\n",
    "from tensorflow_serving.apis import predict_pb2\n",
    "from tensorflow_serving.apis import prediction_service_pb2_grpc\n",
    "\n",
    "from io import BytesIO\n",
    "from urllib import request\n",
    "import numpy as np\n",
    "from PIL import Image"
   ]
  },
  {
   "cell_type": "code",
   "execution_count": 40,
   "metadata": {},
   "outputs": [],
   "source": [
    "host = 'localhost:8500'\n",
    "\n",
    "channel = grpc.insecure_channel(host , options=(('grpc.enable_http_proxy', 0),))\n",
    "\n",
    "stub = prediction_service_pb2_grpc.PredictionServiceStub(channel)\n"
   ]
  },
  {
   "cell_type": "code",
   "execution_count": 41,
   "metadata": {},
   "outputs": [
    {
     "data": {
      "text/plain": [
       "<tensorflow_serving.apis.prediction_service_pb2_grpc.PredictionServiceStub at 0x1a703902550>"
      ]
     },
     "execution_count": 41,
     "metadata": {},
     "output_type": "execute_result"
    }
   ],
   "source": [
    "stub"
   ]
  },
  {
   "cell_type": "code",
   "execution_count": 42,
   "metadata": {},
   "outputs": [],
   "source": [
    "url = \"http://bit.ly/mlbookcamp-pants\""
   ]
  },
  {
   "cell_type": "code",
   "execution_count": 43,
   "metadata": {},
   "outputs": [],
   "source": [
    "classes = ['dress',\n",
    "        'hat',\n",
    "        'longsleeve',\n",
    "        'outwear',\n",
    "        'pants',\n",
    "        'shirt',\n",
    "        'shoes',\n",
    "        'shorts',\n",
    "        'skirt',\n",
    "        't-shirt']\n",
    "\n",
    "def download_image(url):\n",
    "    with request.urlopen(url) as resp:\n",
    "        buffer = resp.read()\n",
    "    stream = BytesIO(buffer)\n",
    "    img = Image.open(stream)\n",
    "    return img\n",
    "\n",
    "def preprocess_input(url):\n",
    "    x = download_image(url)\n",
    "    x = x.resize((299, 299), Image.NEAREST)\n",
    "    arr = np.array(x, dtype=\"float32\")\n",
    "    arr = np.array([arr])\n",
    "    arr /= 127.5\n",
    "    arr -= 1.\n",
    "    return arr\n",
    "\n",
    "def decode_result(pred):\n",
    "    result = {c: float(p) for c, p in zip(classes, pred)}\n",
    "    return result\n"
   ]
  },
  {
   "cell_type": "code",
   "execution_count": 44,
   "metadata": {},
   "outputs": [
    {
     "name": "stderr",
     "output_type": "stream",
     "text": [
      "C:\\Users\\soumy\\AppData\\Local\\Temp\\ipykernel_6156\\2201985149.py:21: DeprecationWarning: NEAREST is deprecated and will be removed in Pillow 10 (2023-07-01). Use Resampling.NEAREST or Dither.NONE instead.\n",
      "  x = x.resize((299, 299), Image.NEAREST)\n"
     ]
    }
   ],
   "source": [
    "X = preprocess_input(url)"
   ]
  },
  {
   "cell_type": "code",
   "execution_count": 45,
   "metadata": {},
   "outputs": [],
   "source": [
    "def numpy_to_protobuf(data):\n",
    "    return tf.make_tensor_proto(data, shape=data.shape)"
   ]
  },
  {
   "cell_type": "code",
   "execution_count": 48,
   "metadata": {},
   "outputs": [],
   "source": [
    "pb_request = predict_pb2.PredictRequest()\n",
    "\n",
    "#   from model-description.txt\n",
    "pb_request.model_spec.name = 'clothing-model'\n",
    "pb_request.model_spec.name = 'serving_default'\n",
    "pb_request.inputs['input_28'].CopyFrom(numpy_to_protobuf(X))"
   ]
  },
  {
   "cell_type": "code",
   "execution_count": 49,
   "metadata": {},
   "outputs": [
    {
     "ename": "_InactiveRpcError",
     "evalue": "<_InactiveRpcError of RPC that terminated with:\n\tstatus = StatusCode.NOT_FOUND\n\tdetails = \"Servable not found for request: Latest(serving_default)\"\n\tdebug_error_string = \"{\"created\":\"@1672596241.003000000\",\"description\":\"Error received from peer \\u00e0x\\u00d5\\u0001\\u00a7\\u0001\",\"file\":\"src/core/lib/surface/call.cc\",\"file_line\":1064,\"grpc_message\":\"Servable not found for request: Latest(serving_default)\",\"grpc_status\":5}\"\n>",
     "output_type": "error",
     "traceback": [
      "\u001b[1;31m---------------------------------------------------------------------------\u001b[0m",
      "\u001b[1;31m_InactiveRpcError\u001b[0m                         Traceback (most recent call last)",
      "Cell \u001b[1;32mIn[49], line 1\u001b[0m\n\u001b[1;32m----> 1\u001b[0m pb_response \u001b[39m=\u001b[39m stub\u001b[39m.\u001b[39;49mPredict(pb_request, timeout\u001b[39m=\u001b[39;49m\u001b[39m20.0\u001b[39;49m)\n",
      "File \u001b[1;32mc:\\Users\\soumy\\anaconda3\\envs\\mlops\\lib\\site-packages\\grpc\\_channel.py:946\u001b[0m, in \u001b[0;36m_UnaryUnaryMultiCallable.__call__\u001b[1;34m(self, request, timeout, metadata, credentials, wait_for_ready, compression)\u001b[0m\n\u001b[0;32m    937\u001b[0m \u001b[39mdef\u001b[39;00m \u001b[39m__call__\u001b[39m(\u001b[39mself\u001b[39m,\n\u001b[0;32m    938\u001b[0m              request,\n\u001b[0;32m    939\u001b[0m              timeout\u001b[39m=\u001b[39m\u001b[39mNone\u001b[39;00m,\n\u001b[1;32m   (...)\u001b[0m\n\u001b[0;32m    942\u001b[0m              wait_for_ready\u001b[39m=\u001b[39m\u001b[39mNone\u001b[39;00m,\n\u001b[0;32m    943\u001b[0m              compression\u001b[39m=\u001b[39m\u001b[39mNone\u001b[39;00m):\n\u001b[0;32m    944\u001b[0m     state, call, \u001b[39m=\u001b[39m \u001b[39mself\u001b[39m\u001b[39m.\u001b[39m_blocking(request, timeout, metadata, credentials,\n\u001b[0;32m    945\u001b[0m                                   wait_for_ready, compression)\n\u001b[1;32m--> 946\u001b[0m     \u001b[39mreturn\u001b[39;00m _end_unary_response_blocking(state, call, \u001b[39mFalse\u001b[39;49;00m, \u001b[39mNone\u001b[39;49;00m)\n",
      "File \u001b[1;32mc:\\Users\\soumy\\anaconda3\\envs\\mlops\\lib\\site-packages\\grpc\\_channel.py:849\u001b[0m, in \u001b[0;36m_end_unary_response_blocking\u001b[1;34m(state, call, with_call, deadline)\u001b[0m\n\u001b[0;32m    847\u001b[0m         \u001b[39mreturn\u001b[39;00m state\u001b[39m.\u001b[39mresponse\n\u001b[0;32m    848\u001b[0m \u001b[39melse\u001b[39;00m:\n\u001b[1;32m--> 849\u001b[0m     \u001b[39mraise\u001b[39;00m _InactiveRpcError(state)\n",
      "\u001b[1;31m_InactiveRpcError\u001b[0m: <_InactiveRpcError of RPC that terminated with:\n\tstatus = StatusCode.NOT_FOUND\n\tdetails = \"Servable not found for request: Latest(serving_default)\"\n\tdebug_error_string = \"{\"created\":\"@1672596241.003000000\",\"description\":\"Error received from peer \\u00e0x\\u00d5\\u0001\\u00a7\\u0001\",\"file\":\"src/core/lib/surface/call.cc\",\"file_line\":1064,\"grpc_message\":\"Servable not found for request: Latest(serving_default)\",\"grpc_status\":5}\"\n>"
     ]
    }
   ],
   "source": [
    "pb_response = stub.Predict(pb_request, timeout=20.0)"
   ]
  },
  {
   "cell_type": "code",
   "execution_count": null,
   "metadata": {},
   "outputs": [],
   "source": []
  }
 ],
 "metadata": {
  "kernelspec": {
   "display_name": "mlops",
   "language": "python",
   "name": "python3"
  },
  "language_info": {
   "codemirror_mode": {
    "name": "ipython",
    "version": 3
   },
   "file_extension": ".py",
   "mimetype": "text/x-python",
   "name": "python",
   "nbconvert_exporter": "python",
   "pygments_lexer": "ipython3",
   "version": "3.9.13"
  },
  "orig_nbformat": 4,
  "vscode": {
   "interpreter": {
    "hash": "18991c5c23bbeacf7138ad08653f66172ad2fdcb5104daecb84c50773ee67104"
   }
  }
 },
 "nbformat": 4,
 "nbformat_minor": 2
}
